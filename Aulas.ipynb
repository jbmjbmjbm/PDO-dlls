{
  "nbformat": 4,
  "nbformat_minor": 0,
  "metadata": {
    "colab": {
      "provenance": [],
      "include_colab_link": true
    },
    "kernelspec": {
      "name": "python3",
      "display_name": "Python 3"
    },
    "language_info": {
      "name": "python"
    }
  },
  "cells": [
    {
      "cell_type": "markdown",
      "metadata": {
        "id": "view-in-github",
        "colab_type": "text"
      },
      "source": [
        "<a href=\"https://colab.research.google.com/github/jbmjbmjbm/PDO-dlls/blob/master/Aulas.ipynb\" target=\"_parent\"><img src=\"https://colab.research.google.com/assets/colab-badge.svg\" alt=\"Open In Colab\"/></a>"
      ]
    },
    {
      "cell_type": "markdown",
      "source": [
        "# 25/07/2023"
      ],
      "metadata": {
        "id": "F2Fnheq7WJko"
      }
    },
    {
      "cell_type": "code",
      "execution_count": null,
      "metadata": {
        "colab": {
          "base_uri": "https://localhost:8080/"
        },
        "id": "piIB8S1VHyun",
        "outputId": "e317ba04-71f2-4743-ee19-1c1ae81ff8f2"
      },
      "outputs": [
        {
          "output_type": "stream",
          "name": "stdout",
          "text": [
            "Achamos o elemebnto Carlos\n"
          ]
        }
      ],
      "source": [
        "def finder(elemento, iten):\n",
        "  achou = False\n",
        "  for i in range(len(iten)):\n",
        "    if iten[i] == elemento:\n",
        "      achou = True\n",
        "  if (achou == False):\n",
        "    print(\"Nao achamos o elemento: \", elemento)\n",
        "  else:\n",
        "    print(\"Achamos o elemebnto\", elemento)\n",
        "\n",
        "array = [\"Ana\", \"Bruna\", \"Carlos\", \"Duarte\", \"Fagundes\"]\n",
        "\n",
        "finder(\"Carlos\",array)\n"
      ]
    },
    {
      "cell_type": "code",
      "source": [
        "def finder(elemento, iten):\n",
        "  achou = False\n",
        "  while(achou == False):\n",
        "    print()\n",
        "    name = input()\n",
        "\n",
        "    for i in range(len(iten)):\n",
        "      if iten[i] == elemento:\n",
        "        achou = True\n",
        "    if (achou == False):\n",
        "      print(\"Nao achamos o elemento: \", elemento)\n",
        "    else:\n",
        "      print(\"Achamos o elemebnto\", elemento)\n",
        "\n",
        "\n",
        "\n",
        "array = [\"Ana\", \"Bruna\", \"Carlos\", \"Duarte\", \"Fagundes\"]\n",
        "\n",
        "finder(nome,array)\n"
      ],
      "metadata": {
        "colab": {
          "base_uri": "https://localhost:8080/",
          "height": 131
        },
        "id": "LxV2owqOX392",
        "outputId": "6859dd27-db54-4c7d-f6b7-057bfed9ff72"
      },
      "execution_count": null,
      "outputs": [
        {
          "output_type": "error",
          "ename": "IndentationError",
          "evalue": "ignored",
          "traceback": [
            "\u001b[0;36m  File \u001b[0;32m\"<ipython-input-21-e580f55cb6d2>\"\u001b[0;36m, line \u001b[0;32m5\u001b[0m\n\u001b[0;31m    str(name = input())\u001b[0m\n\u001b[0m    ^\u001b[0m\n\u001b[0;31mIndentationError\u001b[0m\u001b[0;31m:\u001b[0m expected an indented block after 'while' statement on line 4\n"
          ]
        }
      ]
    },
    {
      "cell_type": "code",
      "source": [
        "def finder(itens):\n",
        "\n",
        "  achou = False\n",
        "\n",
        "  while (achou == False):\n",
        "\n",
        "    print (\"Insira o que deseja encontrar: \")\n",
        "\n",
        "    busca = (input())\n",
        "\n",
        "    for i in range (len(itens)):\n",
        "\n",
        "      if (itens[i] == busca):\n",
        "\n",
        "        achou = True\n",
        "        posicao = i+1\n",
        "\n",
        "    if (achou == False):\n",
        "\n",
        "      print('Não achamos o elemento '+ busca)\n",
        "\n",
        "    else:\n",
        "\n",
        "      print('Achamos o elemento '+ busca, posicao,\"º lugar da fila\" )\n",
        "\n",
        "\n",
        "nome = ['Douglas', 'Vanderson', 'Larissa', 'Josuana','Eliseu','Cicinha']\n",
        "\n",
        "\n",
        "\n",
        "finder(nome)"
      ],
      "metadata": {
        "colab": {
          "base_uri": "https://localhost:8080/"
        },
        "id": "Gowoh04Tcq42",
        "outputId": "e4782031-0638-42a8-fcc6-f151cfc0683e"
      },
      "execution_count": null,
      "outputs": [
        {
          "output_type": "stream",
          "name": "stdout",
          "text": [
            "Insira o que deseja encontrar: \n",
            "Vanderson\n",
            "Achamos o elemento Vanderson 2 º lugar da fila\n"
          ]
        }
      ]
    },
    {
      "cell_type": "code",
      "source": [
        "def achar_elemento(elemento, itens):\n",
        "\n",
        "    for i in range(len(itens)):\n",
        "\n",
        "        if itens[i] == elemento:\n",
        "\n",
        "            return i  # Retorna o índice do elemento encontrado\n",
        "\n",
        "    return -1  # Retorna -1 se o elemento não for encontrado\n",
        "\n",
        "array = [\"Ana\", \"Bruna\", \"Carlos\", \"Duarte\", \"Fagundes\", \"Randerson\"]\n",
        "\n",
        "array2 = [1, 2, 3, 4, 5, 6, 7, 8, 9, 10]\n",
        "\n",
        "while True:\n",
        "\n",
        "    elemento_procurado = input(\"Digite o elemento que deseja procurar: \")\n",
        "\n",
        "    # Procura no primeiro array\n",
        "\n",
        "    indice_encontrado = achar_elemento(elemento_procurado, array)\n",
        "\n",
        "    if indice_encontrado != -1:\n",
        "\n",
        "        print(f'Achamos o elemento \"{elemento_procurado}\" no índice: {indice_encontrado} do primeiro array.')\n",
        "\n",
        "        break\n",
        "\n",
        "    else:\n",
        "\n",
        "        print(f'Não achamos o elemento \"{elemento_procurado}\" no primeiro array.')\n",
        "\n",
        "    # Procura no segundo array\n",
        "\n",
        "    try:\n",
        "\n",
        "        elemento_procurado = int(elemento_procurado)\n",
        "\n",
        "        indice_encontrado = achar_elemento(elemento_procurado, array2)\n",
        "\n",
        "        if indice_encontrado != -1:\n",
        "\n",
        "            print(f'Achamos o elemento \"{elemento_procurado}\" no índice: {indice_encontrado} do segundo array.')\n",
        "\n",
        "            break\n",
        "\n",
        "        else:\n",
        "\n",
        "            print(f'Não achamos o elemento \"{elemento_procurado}\" no segundo array.')\n",
        "\n",
        "    except ValueError:\n",
        "\n",
        "        print('Digite um valor válido (um número inteiro) ou um elemento do primeiro array.')"
      ],
      "metadata": {
        "id": "9nOYmG2BlYs_"
      },
      "execution_count": null,
      "outputs": []
    },
    {
      "cell_type": "code",
      "source": [
        "num = 2\n",
        "print(num,\"º\")"
      ],
      "metadata": {
        "colab": {
          "base_uri": "https://localhost:8080/"
        },
        "id": "TeKa3ukWmNPZ",
        "outputId": "8dc4b208-a684-4255-8b2a-b8f221800583"
      },
      "execution_count": null,
      "outputs": [
        {
          "output_type": "stream",
          "name": "stdout",
          "text": [
            "2 º\n"
          ]
        }
      ]
    },
    {
      "cell_type": "code",
      "source": [
        "lista_frutas = ['maçã', 'banana', 'pera']\n",
        "quantidade_frutas = len(lista_frutas)\n",
        "\n",
        "print(quantidade_frutas)\n",
        "print(lista_frutas)\n",
        "\n",
        "\n",
        "# Imprimirá o número 3, pois lista_frutas tem três elementos"
      ],
      "metadata": {
        "colab": {
          "base_uri": "https://localhost:8080/"
        },
        "id": "1mOGTX88DIpq",
        "outputId": "33be4f75-e6ad-4196-d243-63b0d071b125"
      },
      "execution_count": null,
      "outputs": [
        {
          "output_type": "stream",
          "name": "stdout",
          "text": [
            "3\n",
            "['maçã', 'banana', 'pera']\n"
          ]
        }
      ]
    },
    {
      "cell_type": "code",
      "source": [
        "lista_frutas = ['maçã', 'banana', 'pera' , 'baba', 'çuva']\n",
        "\n",
        "for i in range(len(lista_frutas)):\n",
        "  print(lista_frutas[i])\n",
        "\n",
        "# Imprimirá:\n",
        "# maçã\n",
        "# banana\n",
        "# pera\n"
      ],
      "metadata": {
        "colab": {
          "base_uri": "https://localhost:8080/"
        },
        "id": "E4M8o4bdEJHD",
        "outputId": "7774e9b6-3428-4d34-86d9-0bc3b86bd87c"
      },
      "execution_count": null,
      "outputs": [
        {
          "output_type": "stream",
          "name": "stdout",
          "text": [
            "maçã\n",
            "banana\n",
            "pera\n",
            "baba\n",
            "çuva\n"
          ]
        }
      ]
    },
    {
      "cell_type": "code",
      "source": [
        "lista_num = [2, 45, 65, 78, 126, 987, 457, 345, 679, 107, 2345, 452, 3, 34, 560]\n",
        "\n",
        "for i in range(15):\n",
        "  print(lista_num[i])"
      ],
      "metadata": {
        "colab": {
          "base_uri": "https://localhost:8080/"
        },
        "id": "_ygo6MRoFbKE",
        "outputId": "1afa7d0d-24b4-4928-d991-f3aeb5150899"
      },
      "execution_count": null,
      "outputs": [
        {
          "output_type": "stream",
          "name": "stdout",
          "text": [
            "2\n",
            "45\n",
            "65\n",
            "78\n",
            "126\n",
            "987\n",
            "457\n",
            "345\n",
            "679\n",
            "107\n",
            "2345\n",
            "452\n",
            "3\n",
            "34\n",
            "560\n"
          ]
        }
      ]
    },
    {
      "cell_type": "code",
      "source": [
        "lista_frutas = ['maçã', 'banana', 'pera']\n",
        "print(lista_frutas)\n",
        "# Imprimirá: ['maçã', 'banana', 'pera']\n",
        "\n",
        "lista_frutas[0] = 'melancia'\n",
        "print(lista_frutas)\n",
        "# Imprimirá: ['melancia', 'banana', 'pera']"
      ],
      "metadata": {
        "colab": {
          "base_uri": "https://localhost:8080/"
        },
        "id": "taPgZ71aF1jr",
        "outputId": "af10201c-be44-49a0-baf1-c78776a4ca27"
      },
      "execution_count": null,
      "outputs": [
        {
          "output_type": "stream",
          "name": "stdout",
          "text": [
            "['maçã', 'banana', 'pera']\n",
            "['melancia', 'banana', 'pera']\n"
          ]
        }
      ]
    },
    {
      "cell_type": "code",
      "source": [
        "lista_frutas = ['melancia', 'banana', 'pera']\n",
        "print(lista_frutas)\n",
        "# Imprimirá: ['melancia', 'banana', 'pera']\n",
        "\n",
        "lista_frutas[1], lista_frutas[2] = 'morango', 'abacaxi'\n",
        "print(lista_frutas)\n",
        "# Imprimirá: ['melancia', 'morango', 'abacaxi']"
      ],
      "metadata": {
        "id": "dYipoVmzGHx9",
        "outputId": "93f4014c-67b1-4181-ce1c-4c82f28b6941",
        "colab": {
          "base_uri": "https://localhost:8080/"
        }
      },
      "execution_count": null,
      "outputs": [
        {
          "output_type": "stream",
          "name": "stdout",
          "text": [
            "['melancia', 'banana', 'pera']\n",
            "['melancia', 'morango', 'abacaxi']\n"
          ]
        }
      ]
    },
    {
      "cell_type": "code",
      "source": [
        "def achar_elemento(arr):\n",
        "  achou = False\n",
        "  comprimento = len(arr)\n",
        "\n",
        "  for i in range(comprimento):   #for i in range(len(arr)) pode ser usado e eliminar a necessidade da criaçao da variavel\"comprimento\"\n",
        "    print(arr[i])\n",
        "\n",
        "ordem = ['Primeiro', 'Segundo', 'Terceiro']\n",
        "\n",
        "achar_elemento(ordem)\n"
      ],
      "metadata": {
        "colab": {
          "base_uri": "https://localhost:8080/"
        },
        "id": "G780HWktBeao",
        "outputId": "823b5faf-92c6-4b55-828a-8e82921a4cd9"
      },
      "execution_count": null,
      "outputs": [
        {
          "output_type": "stream",
          "name": "stdout",
          "text": [
            "Primeiro\n",
            "Segundo\n",
            "Terceiro\n"
          ]
        }
      ]
    },
    {
      "cell_type": "code",
      "source": [
        "def achar_nome(elem, arr):\n",
        "  achou = False\n",
        "  comprimento = len(arr)\n",
        "\n",
        "  for i in range(comprimento):  #for i in range(len(arr)) pode ser usado e eliminar a necessidade da criaçao da variavel\"comprimento\"\n",
        "    if (arr[i] == elem):\n",
        "      achou = True\n",
        "\n",
        "  if(achou == True):\n",
        "    print(\"Nome encontrado: \" + elem)\n",
        "\n",
        "  else:\n",
        "    print(\"Nome não localizado: \" + elem)\n",
        "\n",
        "\n",
        "nomes = ['Rafael', 'Arturo', 'Karen', \"Julia\"]\n",
        "achar_nome(\"Marcao\", nomes)\n"
      ],
      "metadata": {
        "colab": {
          "base_uri": "https://localhost:8080/"
        },
        "id": "_4oYFd5OFTXu",
        "outputId": "c0600011-f491-45a8-9ae0-be7d30b80e67"
      },
      "execution_count": null,
      "outputs": [
        {
          "output_type": "stream",
          "name": "stdout",
          "text": [
            "Nome não localizado: Marcao\n"
          ]
        }
      ]
    },
    {
      "cell_type": "markdown",
      "source": [
        "aula 24/08"
      ],
      "metadata": {
        "id": "le9cbS3yyrkI"
      }
    },
    {
      "cell_type": "code",
      "source": [
        "def num_esc():\n",
        "\n",
        "    exist = True\n",
        "\n",
        "    while(exist == True):\n",
        "\n",
        "      try:\n",
        "\n",
        "          num1 = float(input(\"\\nescreva um numero real entre 10 e 100: \\n\"))\n",
        "\n",
        "          if num1 >= 10 and num1 <= 100:\n",
        "\n",
        "            print(\"Voce escolheu o numero\", num1 )\n",
        "            exist = False\n",
        "\n",
        "          else:\n",
        "\n",
        "            print(\"\\nseu numero esta fora dos parametros\\n\")\n",
        "\n",
        "      except:\n",
        "\n",
        "          print(\"\\nDigitar um numero real entre 10 e 100\\n\")\n",
        "num_esc()\n"
      ],
      "metadata": {
        "colab": {
          "base_uri": "https://localhost:8080/"
        },
        "id": "XaW4P365yqH7",
        "outputId": "1de04b3f-c2dd-493b-a86f-784fb18b43b1"
      },
      "execution_count": null,
      "outputs": [
        {
          "output_type": "stream",
          "name": "stdout",
          "text": [
            "\n",
            "escreva um numero real entre 10 e 100: \n",
            "@@@@\n",
            "\n",
            "Digitar um numero real entre 10 e 100\n",
            "\n",
            "\n",
            "escreva um numero real entre 10 e 100: \n",
            "8\n",
            "\n",
            "seu numero esta fora dos parametros\n",
            "\n",
            "\n",
            "escreva um numero real entre 10 e 100: \n",
            "11\n",
            "Voce escolheu o numero 11.0\n"
          ]
        }
      ]
    }
  ]
}